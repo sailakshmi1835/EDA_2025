{
 "cells": [
  {
   "cell_type": "code",
   "execution_count": 1,
   "id": "b69c89a4-9811-4390-856e-350d477539df",
   "metadata": {},
   "outputs": [],
   "source": [
    "import pandas as pd\n",
    "import numpy as np\n",
    "import matplotlib.pyplot as plt\n",
    "import seaborn as sns"
   ]
  },
  {
   "cell_type": "code",
   "execution_count": 3,
   "id": "b3cb6ff3-2460-47a1-ada2-715703d4c7b9",
   "metadata": {},
   "outputs": [
    {
     "data": {
      "text/html": [
       "<div>\n",
       "<style scoped>\n",
       "    .dataframe tbody tr th:only-of-type {\n",
       "        vertical-align: middle;\n",
       "    }\n",
       "\n",
       "    .dataframe tbody tr th {\n",
       "        vertical-align: top;\n",
       "    }\n",
       "\n",
       "    .dataframe thead th {\n",
       "        text-align: right;\n",
       "    }\n",
       "</style>\n",
       "<table border=\"1\" class=\"dataframe\">\n",
       "  <thead>\n",
       "    <tr style=\"text-align: right;\">\n",
       "      <th></th>\n",
       "      <th>case_id</th>\n",
       "      <th>continent</th>\n",
       "      <th>education_of_employee</th>\n",
       "      <th>has_job_experience</th>\n",
       "      <th>requires_job_training</th>\n",
       "      <th>no_of_employees</th>\n",
       "      <th>yr_of_estab</th>\n",
       "      <th>region_of_employment</th>\n",
       "      <th>prevailing_wage</th>\n",
       "      <th>unit_of_wage</th>\n",
       "      <th>full_time_position</th>\n",
       "      <th>case_status</th>\n",
       "    </tr>\n",
       "  </thead>\n",
       "  <tbody>\n",
       "    <tr>\n",
       "      <th>0</th>\n",
       "      <td>EZYV01</td>\n",
       "      <td>Asia</td>\n",
       "      <td>High School</td>\n",
       "      <td>N</td>\n",
       "      <td>N</td>\n",
       "      <td>14513</td>\n",
       "      <td>2007</td>\n",
       "      <td>West</td>\n",
       "      <td>592.2029</td>\n",
       "      <td>Hour</td>\n",
       "      <td>Y</td>\n",
       "      <td>Denied</td>\n",
       "    </tr>\n",
       "    <tr>\n",
       "      <th>1</th>\n",
       "      <td>EZYV02</td>\n",
       "      <td>Asia</td>\n",
       "      <td>Master's</td>\n",
       "      <td>Y</td>\n",
       "      <td>N</td>\n",
       "      <td>2412</td>\n",
       "      <td>2002</td>\n",
       "      <td>Northeast</td>\n",
       "      <td>83425.6500</td>\n",
       "      <td>Year</td>\n",
       "      <td>Y</td>\n",
       "      <td>Certified</td>\n",
       "    </tr>\n",
       "    <tr>\n",
       "      <th>2</th>\n",
       "      <td>EZYV03</td>\n",
       "      <td>Asia</td>\n",
       "      <td>Bachelor's</td>\n",
       "      <td>N</td>\n",
       "      <td>Y</td>\n",
       "      <td>44444</td>\n",
       "      <td>2008</td>\n",
       "      <td>West</td>\n",
       "      <td>122996.8600</td>\n",
       "      <td>Year</td>\n",
       "      <td>Y</td>\n",
       "      <td>Denied</td>\n",
       "    </tr>\n",
       "    <tr>\n",
       "      <th>3</th>\n",
       "      <td>EZYV04</td>\n",
       "      <td>Asia</td>\n",
       "      <td>Bachelor's</td>\n",
       "      <td>N</td>\n",
       "      <td>N</td>\n",
       "      <td>98</td>\n",
       "      <td>1897</td>\n",
       "      <td>West</td>\n",
       "      <td>83434.0300</td>\n",
       "      <td>Year</td>\n",
       "      <td>Y</td>\n",
       "      <td>Denied</td>\n",
       "    </tr>\n",
       "    <tr>\n",
       "      <th>4</th>\n",
       "      <td>EZYV05</td>\n",
       "      <td>Africa</td>\n",
       "      <td>Master's</td>\n",
       "      <td>Y</td>\n",
       "      <td>N</td>\n",
       "      <td>1082</td>\n",
       "      <td>2005</td>\n",
       "      <td>South</td>\n",
       "      <td>149907.3900</td>\n",
       "      <td>Year</td>\n",
       "      <td>Y</td>\n",
       "      <td>Certified</td>\n",
       "    </tr>\n",
       "    <tr>\n",
       "      <th>...</th>\n",
       "      <td>...</td>\n",
       "      <td>...</td>\n",
       "      <td>...</td>\n",
       "      <td>...</td>\n",
       "      <td>...</td>\n",
       "      <td>...</td>\n",
       "      <td>...</td>\n",
       "      <td>...</td>\n",
       "      <td>...</td>\n",
       "      <td>...</td>\n",
       "      <td>...</td>\n",
       "      <td>...</td>\n",
       "    </tr>\n",
       "    <tr>\n",
       "      <th>25475</th>\n",
       "      <td>EZYV25476</td>\n",
       "      <td>Asia</td>\n",
       "      <td>Bachelor's</td>\n",
       "      <td>Y</td>\n",
       "      <td>Y</td>\n",
       "      <td>2601</td>\n",
       "      <td>2008</td>\n",
       "      <td>South</td>\n",
       "      <td>77092.5700</td>\n",
       "      <td>Year</td>\n",
       "      <td>Y</td>\n",
       "      <td>Certified</td>\n",
       "    </tr>\n",
       "    <tr>\n",
       "      <th>25476</th>\n",
       "      <td>EZYV25477</td>\n",
       "      <td>Asia</td>\n",
       "      <td>High School</td>\n",
       "      <td>Y</td>\n",
       "      <td>N</td>\n",
       "      <td>3274</td>\n",
       "      <td>2006</td>\n",
       "      <td>Northeast</td>\n",
       "      <td>279174.7900</td>\n",
       "      <td>Year</td>\n",
       "      <td>Y</td>\n",
       "      <td>Certified</td>\n",
       "    </tr>\n",
       "    <tr>\n",
       "      <th>25477</th>\n",
       "      <td>EZYV25478</td>\n",
       "      <td>Asia</td>\n",
       "      <td>Master's</td>\n",
       "      <td>Y</td>\n",
       "      <td>N</td>\n",
       "      <td>1121</td>\n",
       "      <td>1910</td>\n",
       "      <td>South</td>\n",
       "      <td>146298.8500</td>\n",
       "      <td>Year</td>\n",
       "      <td>N</td>\n",
       "      <td>Certified</td>\n",
       "    </tr>\n",
       "    <tr>\n",
       "      <th>25478</th>\n",
       "      <td>EZYV25479</td>\n",
       "      <td>Asia</td>\n",
       "      <td>Master's</td>\n",
       "      <td>Y</td>\n",
       "      <td>Y</td>\n",
       "      <td>1918</td>\n",
       "      <td>1887</td>\n",
       "      <td>West</td>\n",
       "      <td>86154.7700</td>\n",
       "      <td>Year</td>\n",
       "      <td>Y</td>\n",
       "      <td>Certified</td>\n",
       "    </tr>\n",
       "    <tr>\n",
       "      <th>25479</th>\n",
       "      <td>EZYV25480</td>\n",
       "      <td>Asia</td>\n",
       "      <td>Bachelor's</td>\n",
       "      <td>Y</td>\n",
       "      <td>N</td>\n",
       "      <td>3195</td>\n",
       "      <td>1960</td>\n",
       "      <td>Midwest</td>\n",
       "      <td>70876.9100</td>\n",
       "      <td>Year</td>\n",
       "      <td>Y</td>\n",
       "      <td>Certified</td>\n",
       "    </tr>\n",
       "  </tbody>\n",
       "</table>\n",
       "<p>25480 rows × 12 columns</p>\n",
       "</div>"
      ],
      "text/plain": [
       "         case_id continent education_of_employee has_job_experience  \\\n",
       "0         EZYV01      Asia           High School                  N   \n",
       "1         EZYV02      Asia              Master's                  Y   \n",
       "2         EZYV03      Asia            Bachelor's                  N   \n",
       "3         EZYV04      Asia            Bachelor's                  N   \n",
       "4         EZYV05    Africa              Master's                  Y   \n",
       "...          ...       ...                   ...                ...   \n",
       "25475  EZYV25476      Asia            Bachelor's                  Y   \n",
       "25476  EZYV25477      Asia           High School                  Y   \n",
       "25477  EZYV25478      Asia              Master's                  Y   \n",
       "25478  EZYV25479      Asia              Master's                  Y   \n",
       "25479  EZYV25480      Asia            Bachelor's                  Y   \n",
       "\n",
       "      requires_job_training  no_of_employees  yr_of_estab  \\\n",
       "0                         N            14513         2007   \n",
       "1                         N             2412         2002   \n",
       "2                         Y            44444         2008   \n",
       "3                         N               98         1897   \n",
       "4                         N             1082         2005   \n",
       "...                     ...              ...          ...   \n",
       "25475                     Y             2601         2008   \n",
       "25476                     N             3274         2006   \n",
       "25477                     N             1121         1910   \n",
       "25478                     Y             1918         1887   \n",
       "25479                     N             3195         1960   \n",
       "\n",
       "      region_of_employment  prevailing_wage unit_of_wage full_time_position  \\\n",
       "0                     West         592.2029         Hour                  Y   \n",
       "1                Northeast       83425.6500         Year                  Y   \n",
       "2                     West      122996.8600         Year                  Y   \n",
       "3                     West       83434.0300         Year                  Y   \n",
       "4                    South      149907.3900         Year                  Y   \n",
       "...                    ...              ...          ...                ...   \n",
       "25475                South       77092.5700         Year                  Y   \n",
       "25476            Northeast      279174.7900         Year                  Y   \n",
       "25477                South      146298.8500         Year                  N   \n",
       "25478                 West       86154.7700         Year                  Y   \n",
       "25479              Midwest       70876.9100         Year                  Y   \n",
       "\n",
       "      case_status  \n",
       "0          Denied  \n",
       "1       Certified  \n",
       "2          Denied  \n",
       "3          Denied  \n",
       "4       Certified  \n",
       "...           ...  \n",
       "25475   Certified  \n",
       "25476   Certified  \n",
       "25477   Certified  \n",
       "25478   Certified  \n",
       "25479   Certified  \n",
       "\n",
       "[25480 rows x 12 columns]"
      ]
     },
     "execution_count": 3,
     "metadata": {},
     "output_type": "execute_result"
    }
   ],
   "source": [
    "file_path=r\"C:\\Users\\user\\Downloads\\Visadataset (1).csv\"\n",
    "Visa_df=pd.read_csv(file_path)\n",
    "Visa_df"
   ]
  },
  {
   "cell_type": "code",
   "execution_count": 5,
   "id": "3a603c9f-055a-427b-953d-766f751f0184",
   "metadata": {},
   "outputs": [
    {
     "data": {
      "text/plain": [
       "['case_id',\n",
       " 'continent',\n",
       " 'education_of_employee',\n",
       " 'has_job_experience',\n",
       " 'requires_job_training',\n",
       " 'region_of_employment',\n",
       " 'unit_of_wage',\n",
       " 'full_time_position',\n",
       " 'case_status']"
      ]
     },
     "execution_count": 5,
     "metadata": {},
     "output_type": "execute_result"
    }
   ],
   "source": [
    "types=Visa_df.dtypes\n",
    "cat=[i for i,j in types.items() if j=='object']\n",
    "cat"
   ]
  },
  {
   "cell_type": "code",
   "execution_count": 7,
   "id": "096089cd-8b0b-4333-9776-bf8bd5e7b3f0",
   "metadata": {},
   "outputs": [
    {
     "data": {
      "text/plain": [
       "['no_of_employees', 'yr_of_estab', 'prevailing_wage']"
      ]
     },
     "execution_count": 7,
     "metadata": {},
     "output_type": "execute_result"
    }
   ],
   "source": [
    "num=[i for i,j in types.items() if j!='object']\n",
    "num"
   ]
  },
  {
   "cell_type": "markdown",
   "id": "92b1cdde-b8e3-4ade-a11d-f0b5950e0a6d",
   "metadata": {},
   "source": [
    "- Scaling is the one of the most important step before model\n",
    "\n",
    "- Scaling means makes all the columns under one scale\n",
    "\n",
    "- Scaling used to make all the columns or fetures are comparable\n",
    "\n",
    "- Some ML models works on Distance mathods\n",
    "\n",
    "      - Exampe age min:0 max:100\n",
    "\n",
    "      - Income might be lakhs crores so much bigger values\n",
    "\n",
    "     - if we make ge under age and income under one scale ML model treats important variable\n",
    "\n",
    "     - when values are huge maths makes complete so it is better to do lower down the values\n",
    "\n",
    "    - All the features under one so easy to compare\n",
    "\n",
    "            -Dollar and Ruppes we cannot compare because two are differerntscales\n"
   ]
  },
  {
   "cell_type": "markdown",
   "id": "d19b0c16-ce07-4fcf-a595-c35fc9bf99e5",
   "metadata": {},
   "source": [
    "**Standard scaler**\n",
    "\n",
    "- Z scale makes mean=0 and standard deviation always equal to one\n"
   ]
  },
  {
   "cell_type": "code",
   "execution_count": 12,
   "id": "57a72e9a-b957-4699-a1f0-ad7dffe2f9a9",
   "metadata": {},
   "outputs": [
    {
     "data": {
      "text/plain": [
       "['no_of_employees', 'yr_of_estab', 'prevailing_wage']"
      ]
     },
     "execution_count": 12,
     "metadata": {},
     "output_type": "execute_result"
    }
   ],
   "source": [
    "num"
   ]
  },
  {
   "cell_type": "code",
   "execution_count": 24,
   "id": "b4e66dd7-90cb-4198-92f2-ee8bb246b01f",
   "metadata": {},
   "outputs": [
    {
     "data": {
      "text/plain": [
       "0       -1.398510\n",
       "1        0.169832\n",
       "2        0.919060\n",
       "3        0.169991\n",
       "4        1.428576\n",
       "           ...   \n",
       "25475    0.049923\n",
       "25476    3.876083\n",
       "25477    1.360253\n",
       "25478    0.221504\n",
       "25479   -0.067762\n",
       "Name: prevailing_wage, Length: 25480, dtype: float64"
      ]
     },
     "execution_count": 24,
     "metadata": {},
     "output_type": "execute_result"
    }
   ],
   "source": [
    "x=Visa_df['prevailing_wage']\n",
    "mean=x.mean()\n",
    "std=x.std()\n",
    "con1=x-mean\n",
    "con=con1/std\n",
    "con\n"
   ]
  },
  {
   "cell_type": "code",
   "execution_count": 30,
   "id": "f145d8e4-bff6-4eee-9ff2-5f9a45e8e34e",
   "metadata": {},
   "outputs": [
    {
     "data": {
      "text/plain": [
       "(8.421660368899147e-17, 1.000000000000007)"
      ]
     },
     "execution_count": 30,
     "metadata": {},
     "output_type": "execute_result"
    }
   ],
   "source": [
    "con.mean(),con.std()"
   ]
  },
  {
   "cell_type": "code",
   "execution_count": 36,
   "id": "804740f9-7b00-4f48-9d4a-f9d3e58810cf",
   "metadata": {},
   "outputs": [
    {
     "data": {
      "image/png": "[encoded data removed]",
      "text/plain": [
       "<Figure size 640x480 with 2 Axes>"
      ]
     },
     "metadata": {},
     "output_type": "display_data"
    }
   ],
   "source": [
    "plt.subplot(1,2,1).hist(x)\n",
    "plt.subplot(1,2,2).hist(con)\n",
    "plt.show()"
   ]
  },
  {
   "cell_type": "code",
   "execution_count": 66,
   "id": "837c40cc-78c1-4f4d-ab3b-4f83b224cf03",
   "metadata": {},
   "outputs": [],
   "source": [
    "wage_data=Visa_df[['prevailing_wage']]\n",
    "from sklearn.preprocessing import StandardScaler# read the method\n",
    "Sc=StandardScaler()#sace the method #fitting and tranformation \n",
    "wage_ss=Sc.fit_transform(wage_data)"
   ]
  },
  {
   "cell_type": "code",
   "execution_count": 68,
   "id": "b96d17f2-1862-4d02-98c0-32464cce8b35",
   "metadata": {},
   "outputs": [
    {
     "data": {
      "text/plain": [
       "array([[-1.39853722],\n",
       "       [ 0.1698353 ],\n",
       "       [ 0.91907852],\n",
       "       ...,\n",
       "       [ 1.36027953],\n",
       "       [ 0.22150859],\n",
       "       [-0.06776315]])"
      ]
     },
     "execution_count": 68,
     "metadata": {},
     "output_type": "execute_result"
    }
   ],
   "source": [
    "wage_ss"
   ]
  },
  {
   "cell_type": "code",
   "execution_count": 72,
   "id": "f99a8371-332d-49e5-b8b0-c9334cc27e1f",
   "metadata": {},
   "outputs": [
    {
     "data": {
      "text/plain": [
       "(array([6038., 5504., 5681., 4551., 2334.,  624.,  373.,  240.,  114.,\n",
       "          21.]),\n",
       " array([-1.40970956, -0.80531933, -0.20092909,  0.40346114,  1.00785137,\n",
       "         1.61224161,  2.21663184,  2.82102207,  3.42541231,  4.02980254,\n",
       "         4.63419278]),\n",
       " <BarContainer object of 10 artists>)"
      ]
     },
     "execution_count": 72,
     "metadata": {},
     "output_type": "execute_result"
    },
    {
     "data": {
      "image/png": "[encoded data removed]",
      "text/plain": [
       "<Figure size 640x480 with 1 Axes>"
      ]
     },
     "metadata": {},
     "output_type": "display_data"
    }
   ],
   "source": [
    "plt.hist(wage_ss)"
   ]
  },
  {
   "cell_type": "code",
   "execution_count": null,
   "id": "6b664f50-34ba-4f9f-b1fd-cd90600f7cbb",
   "metadata": {},
   "outputs": [],
   "source": [
    "apply minmaxscaler and normalization\n",
    "do based on formula and package\n",
    "draw the histogram\n",
    "min=0 max=1"
   ]
  },
  {
   "cell_type": "markdown",
   "id": "62843fe3-144a-426a-897b-ba7159cdfaa6",
   "metadata": {},
   "source": [
    "<img src=\"https://miro.medium.com/v2/resize:fit:888/1*ye1I00S61GqpR34ABZZFLQ.png\" jsaction=\"\" class=\"sFlh5c FyHeAf iPVvYb\" style=\"max-width: 444px; height: 107px; margin: 19.5px 0px; width: 305px;\" alt=\"How Min-Max Scaler Works. The math behind the min-max scaler | by Kamlesh  Kumar Rangi | Medium\" jsname=\"kn3ccd\">"
   ]
  },
  {
   "cell_type": "code",
   "execution_count": 75,
   "id": "39922480-08b1-402b-beef-5193b91b3488",
   "metadata": {},
   "outputs": [
    {
     "data": {
      "text/plain": [
       "0        0.001849\n",
       "1        0.261345\n",
       "2        0.385312\n",
       "3        0.261371\n",
       "4        0.469616\n",
       "           ...   \n",
       "25475    0.241505\n",
       "25476    0.874579\n",
       "25477    0.458311\n",
       "25478    0.269895\n",
       "25479    0.222033\n",
       "Name: prevailing_wage, Length: 25480, dtype: float64"
      ]
     },
     "execution_count": 75,
     "metadata": {},
     "output_type": "execute_result"
    }
   ],
   "source": [
    "x=Visa_df['prevailing_wage']\n",
    "min=x.min()\n",
    "max=x.max()\n",
    "MMScaled=(x-min)/(max-min)\n",
    "MMScaled"
   ]
  },
  {
   "cell_type": "code",
   "execution_count": 77,
   "id": "9d7168eb-3307-4939-8b22-78e6f5d04098",
   "metadata": {},
   "outputs": [
    {
     "data": {
      "text/plain": [
       "(array([6038., 5504., 5681., 4551., 2334.,  624.,  373.,  240.,  114.,\n",
       "          21.]),\n",
       " array([0. , 0.1, 0.2, 0.3, 0.4, 0.5, 0.6, 0.7, 0.8, 0.9, 1. ]),\n",
       " <BarContainer object of 10 artists>)"
      ]
     },
     "execution_count": 77,
     "metadata": {},
     "output_type": "execute_result"
    },
    {
     "data": {
      "image/png": "[encoded data removed]",
      "text/plain": [
       "<Figure size 640x480 with 2 Axes>"
      ]
     },
     "metadata": {},
     "output_type": "display_data"
    }
   ],
   "source": [
    "plt.subplot(1,2,1).hist(x)\n",
    "plt.subplot(1,2,2).hist(MMScaled)"
   ]
  },
  {
   "cell_type": "markdown",
   "id": "b4b6f6f8-13fe-4ce5-ade5-42795a77eb17",
   "metadata": {},
   "source": [
    "<img src=\"https://wallstreetmojo-files.s3.ap-south-1.amazonaws.com/2019/05/Normal-Distribution-Formula-1.jpg\" jsaction=\"\" class=\"sFlh5c FyHeAf iPVvYb\" style=\"max-width: 1024px; height: 137px; margin: 4.5px 0px; width: 304px;\" alt=\"Normal Distribution Formula - What Is It, Examples, Relevance\" jsname=\"kn3ccd\">"
   ]
  },
  {
   "cell_type": "code",
   "execution_count": 82,
   "id": "6a32336a-fdb1-461b-bddf-207122792e7e",
   "metadata": {},
   "outputs": [],
   "source": [
    "x = Visa_df['prevailing_wage']\n",
    "mean = x.mean()\n",
    "std = x.std()\n",
    "z = (x - mean) / std\n"
   ]
  },
  {
   "cell_type": "code",
   "execution_count": 84,
   "id": "17bf168f-3dae-4c0f-a359-44eab9018649",
   "metadata": {},
   "outputs": [
    {
     "data": {
      "text/plain": [
       "0       -1.398510\n",
       "1        0.169832\n",
       "2        0.919060\n",
       "3        0.169991\n",
       "4        1.428576\n",
       "           ...   \n",
       "25475    0.049923\n",
       "25476    3.876083\n",
       "25477    1.360253\n",
       "25478    0.221504\n",
       "25479   -0.067762\n",
       "Name: prevailing_wage, Length: 25480, dtype: float64"
      ]
     },
     "execution_count": 84,
     "metadata": {},
     "output_type": "execute_result"
    }
   ],
   "source": [
    "z"
   ]
  },
  {
   "cell_type": "code",
   "execution_count": 86,
   "id": "d8b92746-41c1-41b5-9149-49093ee8358e",
   "metadata": {},
   "outputs": [
    {
     "data": {
      "text/plain": [
       "(array([6038., 5504., 5681., 4551., 2334.,  624.,  373.,  240.,  114.,\n",
       "          21.]),\n",
       " array([-1.4096819 , -0.80530353, -0.20092515,  0.40345322,  1.0078316 ,\n",
       "         1.61220997,  2.21658834,  2.82096672,  3.42534509,  4.02972346,\n",
       "         4.63410184]),\n",
       " <BarContainer object of 10 artists>)"
      ]
     },
     "execution_count": 86,
     "metadata": {},
     "output_type": "execute_result"
    },
    {
     "data": {
      "image/png": "[encoded data removed]",
      "text/plain": [
       "<Figure size 640x480 with 2 Axes>"
      ]
     },
     "metadata": {},
     "output_type": "display_data"
    }
   ],
   "source": [
    "plt.subplot(1,2,1).hist(x)\n",
    "plt.subplot(1,2,2).hist(z)"
   ]
  },
  {
   "cell_type": "code",
   "execution_count": null,
   "id": "f375338b-29be-4764-9333-8481c7793cff",
   "metadata": {},
   "outputs": [],
   "source": []
  }
 ],
 "metadata": {
  "kernelspec": {
   "display_name": "Python [conda env:base] *",
   "language": "python",
   "name": "conda-base-py"
  },
  "language_info": {
   "codemirror_mode": {
    "name": "ipython",
    "version": 3
   },
   "file_extension": ".py",
   "mimetype": "text/x-python",
   "name": "python",
   "nbconvert_exporter": "python",
   "pygments_lexer": "ipython3",
   "version": "3.12.7"
  }
 },
 "nbformat": 4,
 "nbformat_minor": 5
}
